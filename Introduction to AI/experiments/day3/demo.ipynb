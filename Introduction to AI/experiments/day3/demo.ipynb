{
 "cells": [
  {
   "cell_type": "code",
   "execution_count": 1,
   "metadata": {},
   "outputs": [
    {
     "name": "stdout",
     "output_type": "stream",
     "text": [
      "[[3], [1], [5], [2], [4]]\n",
      "[[2.8], [0.9], [5], [2.1], [4.3]]\n"
     ]
    }
   ],
   "source": [
    "# Parameters\n",
    "learning_rate = 0.01\n",
    "training_epochs = 1000\n",
    "display_step = 50\n",
    "\n",
    "x=[[3],[1],[5],[2],[4]]\n",
    "y=[[2.8],[0.9],[5],[2.1],[4.3]]\n",
    "print(x)\n",
    "print(y)"
   ]
  },
  {
   "cell_type": "code",
   "execution_count": 2,
   "metadata": {},
   "outputs": [
    {
     "name": "stderr",
     "output_type": "stream",
     "text": [
      "C:\\Users\\saisai\\Anaconda3\\lib\\site-packages\\h5py\\__init__.py:72: UserWarning: h5py is running against HDF5 1.10.2 when it was built against 1.10.3, this may cause problems\n",
      "  '{0}.{1}.{2}'.format(*version.hdf5_built_version_tuple)\n"
     ]
    },
    {
     "name": "stdout",
     "output_type": "stream",
     "text": [
      "[[3.]\n",
      " [1.]\n",
      " [5.]\n",
      " [2.]\n",
      " [4.]]\n",
      "[[2.8]\n",
      " [0.9]\n",
      " [5. ]\n",
      " [2.1]\n",
      " [4.3]]\n"
     ]
    }
   ],
   "source": [
    "import numpy as np\n",
    "import tensorflow as tf\n",
    "\n",
    "#data process\n",
    "x=np.asarray(x,dtype=np.float32)\n",
    "print(x)\n",
    "y=np.asarray(y,dtype=np.float32)\n",
    "print(y)"
   ]
  },
  {
   "cell_type": "code",
   "execution_count": 3,
   "metadata": {},
   "outputs": [
    {
     "name": "stdout",
     "output_type": "stream",
     "text": [
      "WARNING:tensorflow:From C:\\Users\\saisai\\Anaconda3\\lib\\site-packages\\tensorflow\\python\\framework\\op_def_library.py:263: colocate_with (from tensorflow.python.framework.ops) is deprecated and will be removed in a future version.\n",
      "Instructions for updating:\n",
      "Colocations handled automatically by placer.\n"
     ]
    }
   ],
   "source": [
    "#data input\n",
    "x_input=tf.placeholder(tf.float32,(None,1))\n",
    "y_input=tf.placeholder(tf.float32,(None,1))\n",
    "\n",
    "#model\n",
    "w=tf.Variable(np.random.rand(1,1),dtype=tf.float32)\n",
    "b=tf.Variable(np.random.rand(1,),dtype=tf.float32)\n",
    "\n",
    "pred=tf.add(tf.matmul(x_input,w),b)\n",
    "\n",
    "#define loss\n",
    "loss=tf.reduce_mean(tf.pow(pred-y_input,2))\n",
    "\n",
    "#define optimization\n",
    "optim=tf.train.GradientDescentOptimizer(learning_rate).minimize(loss)"
   ]
  },
  {
   "cell_type": "code",
   "execution_count": 4,
   "metadata": {},
   "outputs": [
    {
     "name": "stdout",
     "output_type": "stream",
     "text": [
      "Epoch   50 cost: 0.185376257\n",
      "Epoch  100 cost: 0.139705285\n",
      "Epoch  150 cost: 0.107154824\n",
      "Epoch  200 cost: 0.083955407\n",
      "Epoch  250 cost: 0.067420810\n",
      "Epoch  300 cost: 0.055636279\n",
      "Epoch  350 cost: 0.047237217\n",
      "Epoch  400 cost: 0.041251071\n",
      "Epoch  450 cost: 0.036984622\n",
      "Epoch  500 cost: 0.033943839\n",
      "Epoch  550 cost: 0.031776659\n",
      "Epoch  600 cost: 0.030232083\n",
      "Epoch  650 cost: 0.029131189\n",
      "Epoch  700 cost: 0.028346557\n",
      "Epoch  750 cost: 0.027787367\n",
      "Epoch  800 cost: 0.027388815\n",
      "Epoch  850 cost: 0.027104760\n",
      "Epoch  900 cost: 0.026902298\n",
      "Epoch  950 cost: 0.026757991\n",
      "Epoch 1000 cost: 0.026655173\n",
      "Optimization Finished!\n",
      "Training modal w: 1.02966, b: -0.06269\n"
     ]
    }
   ],
   "source": [
    "#define session\n",
    "with tf.Session() as sess:\n",
    "    sess.run(tf.global_variables_initializer())\n",
    "    sess.run(tf.local_variables_initializer())\n",
    "\n",
    "    #start train model\n",
    "    for epoch in range(training_epochs):\n",
    "        pred_y,l,_=sess.run([pred,loss,optim],feed_dict={x_input:x,y_input:y})\n",
    "        # Display logs per epoch step\n",
    "        if (epoch + 1) % display_step == 0:\n",
    "            print(\"Epoch {:4d} cost: {:.9f}\".format((epoch + 1),l))\n",
    "    print(\"Optimization Finished!\")\n",
    "    final_w=np.squeeze(sess.run(w))\n",
    "    final_b=np.squeeze(sess.run(b))\n",
    "    print(\"Training modal w: {:.5f}, b: {:.5f}\".format(final_w,final_b))"
   ]
  },
  {
   "cell_type": "code",
   "execution_count": 5,
   "metadata": {},
   "outputs": [
    {
     "data": {
      "image/png": "[encoded data removed]",
      "text/plain": [
       "<Figure size 432x288 with 1 Axes>"
      ]
     },
     "metadata": {
      "needs_background": "light"
     },
     "output_type": "display_data"
    }
   ],
   "source": [
    "#show your result\n",
    "pred_y=final_w*x+final_b\n",
    "import matplotlib.pyplot as plt\n",
    "%matplotlib inline\n",
    "plt.plot(x,y,'ro',x,pred_y,'b')\n",
    "plt.show()"
   ]
  },
  {
   "cell_type": "code",
   "execution_count": 6,
   "metadata": {},
   "outputs": [],
   "source": [
    "import numpy as np\n",
    "import matplotlib.pyplot as plt\n",
    "def sigmoid(x):\n",
    "    return 1.0/(1+np.exp(-x))"
   ]
  },
  {
   "cell_type": "code",
   "execution_count": 7,
   "metadata": {},
   "outputs": [
    {
     "name": "stdout",
     "output_type": "stream",
     "text": [
      "Sigmoid Function Input :: [-10  -9  -8  -7  -6  -5  -4  -3  -2  -1   0   1   2   3   4   5   6   7\n",
      "   8   9]\n",
      "Sigmoid Function Output :: [0.50001135 0.50003085 0.50008384 0.50022776 0.50061816 0.50167321\n",
      " 0.50449643 0.51185425 0.52976549 0.56683301 0.62245933 0.67503753\n",
      " 0.70698737 0.72163256 0.72750761 0.72974065 0.73057215 0.73087942\n",
      " 0.73099264 0.73103432]\n"
     ]
    },
    {
     "data": {
      "image/png": "[encoded data removed]",
      "text/plain": [
       "<Figure size 432x288 with 1 Axes>"
      ]
     },
     "metadata": {
      "needs_background": "light"
     },
     "output_type": "display_data"
    }
   ],
   "source": [
    "import numpy as np\n",
    "import matplotlib.pyplot as plt\n",
    "def sigmoid(x):\n",
    "    return 1.0/(1+np.exp(-x))\n",
    "\n",
    "sigmoid_inputs = np.arange(-10,10)\n",
    "sigmoid_outputs=sigmoid(sigmoid(sigmoid_inputs))\n",
    "print(\"Sigmoid Function Input :: {}\".format(sigmoid_inputs))\n",
    "print(\"Sigmoid Function Output :: {}\".format(sigmoid_outputs))\n",
    "\n",
    "plt.plot(sigmoid_inputs,sigmoid_outputs)\n",
    "plt.xlabel(\"Sigmoid Inputs\")\n",
    "plt.ylabel(\"Sigmoid Outputs\")\n",
    "plt.show()"
   ]
  },
  {
   "cell_type": "code",
   "execution_count": 8,
   "metadata": {},
   "outputs": [
    {
     "name": "stdout",
     "output_type": "stream",
     "text": [
      "Sigmoid Function Input :: [-19 -18 -17 -16 -15 -14 -13 -12 -11 -10  -9  -8  -7  -6  -5  -4  -3  -2\n",
      "  -1   0]\n",
      "Sigmoid Function Output :: [3.54164282e-09 9.62718333e-09 2.61693975e-08 7.11357977e-08\n",
      " 1.93367146e-07 5.25626400e-07 1.42880069e-06 3.88388295e-06\n",
      " 1.05574885e-05 2.86982290e-05 7.80098745e-05 2.12052824e-04\n",
      " 5.76419339e-04 1.56687021e-03 4.25919483e-03 1.15776919e-02\n",
      " 3.14714295e-02 8.55482150e-02 2.32544158e-01 6.32120560e-01]\n"
     ]
    },
    {
     "data": {
      "image/png": "[encoded data removed]",
      "text/plain": [
       "<Figure size 432x288 with 1 Axes>"
      ]
     },
     "metadata": {
      "needs_background": "light"
     },
     "output_type": "display_data"
    }
   ],
   "source": [
    "def softmax(x):\n",
    "    orig_shape=x.shape\n",
    "    if len(x.shape)>1:\n",
    "        #Matrix\n",
    "        #shift max whithin each row\n",
    "        constant_shift=np.max(x,axis=1).reshape(1,-1)\n",
    "        x-=constant_shift\n",
    "        x=np.exp(x)\n",
    "        normlize=np.sum(x,axis=1).reshape(1,-1)\n",
    "        x/=normlize\n",
    "    else:\n",
    "        #vector\n",
    "        constant_shift=np.max(x)\n",
    "        x-=constant_shift\n",
    "        x=np.exp(x)\n",
    "        normlize=np.sum(x)\n",
    "        x/=normlize\n",
    "    assert x.shape==orig_shape\n",
    "    return x\n",
    "\n",
    "softmax_inputs = np.arange(-10,10)\n",
    "softmax_outputs=softmax(softmax_inputs)\n",
    "print(\"Sigmoid Function Input :: {}\".format(softmax_inputs))\n",
    "print(\"Sigmoid Function Output :: {}\".format(softmax_outputs))\n",
    "# 画图像\n",
    "plt.plot(softmax_inputs,softmax_outputs)\n",
    "plt.xlabel(\"Softmax Inputs\")\n",
    "plt.ylabel(\"Softmax Outputs\")\n",
    "plt.show()"
   ]
  },
  {
   "cell_type": "code",
   "execution_count": null,
   "metadata": {},
   "outputs": [],
   "source": []
  },
  {
   "cell_type": "code",
   "execution_count": null,
   "metadata": {},
   "outputs": [],
   "source": []
  },
  {
   "cell_type": "code",
   "execution_count": null,
   "metadata": {},
   "outputs": [],
   "source": []
  },
  {
   "cell_type": "code",
   "execution_count": null,
   "metadata": {},
   "outputs": [],
   "source": []
  }
 ],
 "metadata": {
  "kernelspec": {
   "display_name": "Python 3",
   "language": "python",
   "name": "python3"
  },
  "language_info": {
   "codemirror_mode": {
    "name": "ipython",
    "version": 3
   },
   "file_extension": ".py",
   "mimetype": "text/x-python",
   "name": "python",
   "nbconvert_exporter": "python",
   "pygments_lexer": "ipython3",
   "version": "3.7.0"
  }
 },
 "nbformat": 4,
 "nbformat_minor": 1
}
